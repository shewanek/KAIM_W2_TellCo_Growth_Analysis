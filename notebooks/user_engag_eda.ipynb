{
 "cells": [
  {
   "cell_type": "markdown",
   "metadata": {},
   "source": [
    "# User Engagement Analysis\n",
    "- User Engagement Analysis focuses on tracking user activities on database sessions to appreciate user engagement for overall applications and per application. The engagement metrics to be used are:\n",
    "    - Sessions frequency\n",
    "    - Duration of the session\n",
    "    - Session total traffic (download and upload in bytes)\n"
   ]
  },
  {
   "cell_type": "code",
   "execution_count": 1,
   "metadata": {},
   "outputs": [],
   "source": [
    "# Import necessary libraries and modules\n",
    "import os\n",
    "import sys\n",
    "import warnings\n",
    "import pandas as pd\n",
    "\n",
    "# Add parent directory to path to import local modules\n",
    "sys.path.insert(0, os.path.dirname(os.getcwd()))\n",
    "from scripts.user_engag_analysis import UserEngagementAnalysis\n",
    "\n",
    "\n",
    "# Suppress FutureWarnings\n",
    "warnings.simplefilter(action='ignore', category=FutureWarning)"
   ]
  },
  {
   "cell_type": "markdown",
   "metadata": {},
   "source": [
    "## Load and Display Cleaned Data"
   ]
  },
  {
   "cell_type": "code",
   "execution_count": 2,
   "metadata": {},
   "outputs": [
    {
     "data": {
      "text/html": [
       "<div>\n",
       "<style scoped>\n",
       "    .dataframe tbody tr th:only-of-type {\n",
       "        vertical-align: middle;\n",
       "    }\n",
       "\n",
       "    .dataframe tbody tr th {\n",
       "        vertical-align: top;\n",
       "    }\n",
       "\n",
       "    .dataframe thead th {\n",
       "        text-align: right;\n",
       "    }\n",
       "</style>\n",
       "<table border=\"1\" class=\"dataframe\">\n",
       "  <thead>\n",
       "    <tr style=\"text-align: right;\">\n",
       "      <th></th>\n",
       "      <th>Bearer Id</th>\n",
       "      <th>Start</th>\n",
       "      <th>End</th>\n",
       "      <th>Dur. (s)</th>\n",
       "      <th>MSISDN/Number</th>\n",
       "      <th>IMSI</th>\n",
       "      <th>IMEI</th>\n",
       "      <th>Avg Bearer TP DL (kbps)</th>\n",
       "      <th>Avg Bearer TP UL (kbps)</th>\n",
       "      <th>Avg RTT DL (ms)</th>\n",
       "      <th>...</th>\n",
       "      <th>Other DL (Bytes)</th>\n",
       "      <th>Other UL (Bytes)</th>\n",
       "      <th>Total DL (Bytes)</th>\n",
       "      <th>Total UL (Bytes)</th>\n",
       "      <th>Handset Manufacturer</th>\n",
       "      <th>Handset Type</th>\n",
       "      <th>DL TP &lt; 50 Kbps (%)</th>\n",
       "      <th>50 Kbps &lt; DL TP &lt; 250 Kbps (%)</th>\n",
       "      <th>UL TP &lt; 10 Kbps (%)</th>\n",
       "      <th>10 Kbps &lt; UL TP &lt; 50 Kbps (%)</th>\n",
       "    </tr>\n",
       "  </thead>\n",
       "  <tbody>\n",
       "    <tr>\n",
       "      <th>0</th>\n",
       "      <td>1.311448e+19</td>\n",
       "      <td>4/4/2019 12:01</td>\n",
       "      <td>4/25/2019 14:35</td>\n",
       "      <td>1823652.0</td>\n",
       "      <td>3.366496e+10</td>\n",
       "      <td>2.082014e+14</td>\n",
       "      <td>3.552121e+13</td>\n",
       "      <td>23.0</td>\n",
       "      <td>44.0</td>\n",
       "      <td>42.000000</td>\n",
       "      <td>...</td>\n",
       "      <td>171744450.0</td>\n",
       "      <td>8814393.0</td>\n",
       "      <td>308879636.0</td>\n",
       "      <td>36749741.0</td>\n",
       "      <td>Samsung</td>\n",
       "      <td>Samsung Galaxy A5 Sm-A520F</td>\n",
       "      <td>100.0</td>\n",
       "      <td>0.0</td>\n",
       "      <td>100.0</td>\n",
       "      <td>0.0</td>\n",
       "    </tr>\n",
       "    <tr>\n",
       "      <th>1</th>\n",
       "      <td>1.311448e+19</td>\n",
       "      <td>4/9/2019 13:04</td>\n",
       "      <td>4/25/2019 8:15</td>\n",
       "      <td>1365104.0</td>\n",
       "      <td>3.368185e+10</td>\n",
       "      <td>2.082019e+14</td>\n",
       "      <td>3.579401e+13</td>\n",
       "      <td>16.0</td>\n",
       "      <td>26.0</td>\n",
       "      <td>65.000000</td>\n",
       "      <td>...</td>\n",
       "      <td>526904238.0</td>\n",
       "      <td>15055145.0</td>\n",
       "      <td>653384965.0</td>\n",
       "      <td>53800391.0</td>\n",
       "      <td>Samsung</td>\n",
       "      <td>Samsung Galaxy J5 (Sm-J530)</td>\n",
       "      <td>100.0</td>\n",
       "      <td>0.0</td>\n",
       "      <td>100.0</td>\n",
       "      <td>0.0</td>\n",
       "    </tr>\n",
       "    <tr>\n",
       "      <th>2</th>\n",
       "      <td>1.311448e+19</td>\n",
       "      <td>4/9/2019 17:42</td>\n",
       "      <td>4/25/2019 11:58</td>\n",
       "      <td>1361762.0</td>\n",
       "      <td>3.376063e+10</td>\n",
       "      <td>2.082003e+14</td>\n",
       "      <td>3.528151e+13</td>\n",
       "      <td>6.0</td>\n",
       "      <td>9.0</td>\n",
       "      <td>109.795706</td>\n",
       "      <td>...</td>\n",
       "      <td>410692588.0</td>\n",
       "      <td>4215763.0</td>\n",
       "      <td>279807335.0</td>\n",
       "      <td>27883638.0</td>\n",
       "      <td>Samsung</td>\n",
       "      <td>Samsung Galaxy A8 (2018)</td>\n",
       "      <td>100.0</td>\n",
       "      <td>0.0</td>\n",
       "      <td>100.0</td>\n",
       "      <td>0.0</td>\n",
       "    </tr>\n",
       "    <tr>\n",
       "      <th>3</th>\n",
       "      <td>1.311448e+19</td>\n",
       "      <td>4/10/2019 0:31</td>\n",
       "      <td>4/25/2019 7:36</td>\n",
       "      <td>1321509.0</td>\n",
       "      <td>3.375034e+10</td>\n",
       "      <td>2.082014e+14</td>\n",
       "      <td>3.535661e+13</td>\n",
       "      <td>44.0</td>\n",
       "      <td>44.0</td>\n",
       "      <td>109.795706</td>\n",
       "      <td>...</td>\n",
       "      <td>749039933.0</td>\n",
       "      <td>12797283.0</td>\n",
       "      <td>846028530.0</td>\n",
       "      <td>43324218.0</td>\n",
       "      <td>undefined</td>\n",
       "      <td>undefined</td>\n",
       "      <td>100.0</td>\n",
       "      <td>0.0</td>\n",
       "      <td>100.0</td>\n",
       "      <td>0.0</td>\n",
       "    </tr>\n",
       "    <tr>\n",
       "      <th>4</th>\n",
       "      <td>1.311448e+19</td>\n",
       "      <td>4/12/2019 20:10</td>\n",
       "      <td>4/25/2019 10:40</td>\n",
       "      <td>1089009.0</td>\n",
       "      <td>3.369980e+10</td>\n",
       "      <td>2.082014e+14</td>\n",
       "      <td>3.540701e+13</td>\n",
       "      <td>6.0</td>\n",
       "      <td>9.0</td>\n",
       "      <td>109.795706</td>\n",
       "      <td>...</td>\n",
       "      <td>550709500.0</td>\n",
       "      <td>13910322.0</td>\n",
       "      <td>569138589.0</td>\n",
       "      <td>38542814.0</td>\n",
       "      <td>Samsung</td>\n",
       "      <td>Samsung Sm-G390F</td>\n",
       "      <td>100.0</td>\n",
       "      <td>0.0</td>\n",
       "      <td>100.0</td>\n",
       "      <td>0.0</td>\n",
       "    </tr>\n",
       "  </tbody>\n",
       "</table>\n",
       "<p>5 rows × 35 columns</p>\n",
       "</div>"
      ],
      "text/plain": [
       "      Bearer Id            Start              End   Dur. (s)  MSISDN/Number  \\\n",
       "0  1.311448e+19   4/4/2019 12:01  4/25/2019 14:35  1823652.0   3.366496e+10   \n",
       "1  1.311448e+19   4/9/2019 13:04   4/25/2019 8:15  1365104.0   3.368185e+10   \n",
       "2  1.311448e+19   4/9/2019 17:42  4/25/2019 11:58  1361762.0   3.376063e+10   \n",
       "3  1.311448e+19   4/10/2019 0:31   4/25/2019 7:36  1321509.0   3.375034e+10   \n",
       "4  1.311448e+19  4/12/2019 20:10  4/25/2019 10:40  1089009.0   3.369980e+10   \n",
       "\n",
       "           IMSI          IMEI  Avg Bearer TP DL (kbps)  \\\n",
       "0  2.082014e+14  3.552121e+13                     23.0   \n",
       "1  2.082019e+14  3.579401e+13                     16.0   \n",
       "2  2.082003e+14  3.528151e+13                      6.0   \n",
       "3  2.082014e+14  3.535661e+13                     44.0   \n",
       "4  2.082014e+14  3.540701e+13                      6.0   \n",
       "\n",
       "   Avg Bearer TP UL (kbps)  Avg RTT DL (ms)  ...  Other DL (Bytes)  \\\n",
       "0                     44.0        42.000000  ...       171744450.0   \n",
       "1                     26.0        65.000000  ...       526904238.0   \n",
       "2                      9.0       109.795706  ...       410692588.0   \n",
       "3                     44.0       109.795706  ...       749039933.0   \n",
       "4                      9.0       109.795706  ...       550709500.0   \n",
       "\n",
       "   Other UL (Bytes)  Total DL (Bytes)  Total UL (Bytes)  Handset Manufacturer  \\\n",
       "0         8814393.0       308879636.0        36749741.0               Samsung   \n",
       "1        15055145.0       653384965.0        53800391.0               Samsung   \n",
       "2         4215763.0       279807335.0        27883638.0               Samsung   \n",
       "3        12797283.0       846028530.0        43324218.0             undefined   \n",
       "4        13910322.0       569138589.0        38542814.0               Samsung   \n",
       "\n",
       "                  Handset Type  DL TP < 50 Kbps (%)  \\\n",
       "0   Samsung Galaxy A5 Sm-A520F                100.0   \n",
       "1  Samsung Galaxy J5 (Sm-J530)                100.0   \n",
       "2     Samsung Galaxy A8 (2018)                100.0   \n",
       "3                    undefined                100.0   \n",
       "4             Samsung Sm-G390F                100.0   \n",
       "\n",
       "   50 Kbps < DL TP < 250 Kbps (%)  UL TP < 10 Kbps (%)  \\\n",
       "0                             0.0                100.0   \n",
       "1                             0.0                100.0   \n",
       "2                             0.0                100.0   \n",
       "3                             0.0                100.0   \n",
       "4                             0.0                100.0   \n",
       "\n",
       "   10 Kbps < UL TP < 50 Kbps (%)  \n",
       "0                            0.0  \n",
       "1                            0.0  \n",
       "2                            0.0  \n",
       "3                            0.0  \n",
       "4                            0.0  \n",
       "\n",
       "[5 rows x 35 columns]"
      ]
     },
     "execution_count": 2,
     "metadata": {},
     "output_type": "execute_result"
    }
   ],
   "source": [
    "# Load the data\n",
    "df = pd.read_csv('../data/clean_proccessed_data.csv')\n",
    "\n",
    "# Display the first few rows of the DataFrame\n",
    "df.head()"
   ]
  },
  {
   "cell_type": "markdown",
   "metadata": {},
   "source": [
    "### User Engagement Analysis Initialization"
   ]
  },
  {
   "cell_type": "code",
   "execution_count": 3,
   "metadata": {},
   "outputs": [],
   "source": [
    "User_Engag = UserEngagementAnalysis(df)"
   ]
  },
  {
   "cell_type": "code",
   "execution_count": 4,
   "metadata": {},
   "outputs": [
    {
     "name": "stdout",
     "output_type": "stream",
     "text": [
      "   MSISDN/Number  session_frequency  session_duration  total_traffic\n",
      "0   3.360100e+10                  1          116720.0   8.786906e+08\n",
      "1   3.360100e+10                  1          181230.0   1.568596e+08\n",
      "2   3.360100e+10                  1          134969.0   5.959665e+08\n",
      "3   3.360101e+10                  1           49878.0   4.223207e+08\n",
      "4   3.360101e+10                  4           37104.0   1.457411e+09\n"
     ]
    }
   ],
   "source": [
    "aggregated_data= User_Engag.aggregate_metrics_per_customer()\n",
    "print(aggregated_data.head())"
   ]
  },
  {
   "cell_type": "markdown",
   "metadata": {},
   "source": [
    "### Aggregated Metrics per Customer"
   ]
  },
  {
   "cell_type": "code",
   "execution_count": 7,
   "metadata": {},
   "outputs": [],
   "source": [
    "top_10_frequency, top_10_duration, top_10_traffic = User_Engag.top_10_customers_per_metric(aggregated_data)"
   ]
  },
  {
   "cell_type": "code",
   "execution_count": 6,
   "metadata": {},
   "outputs": [
    {
     "data": {
      "text/plain": [
       "('top_10_frequency',\n",
       "         MSISDN/Number  session_frequency  session_duration  total_traffic\n",
       " 106853   4.188282e+10            1136356      7.255100e+07   5.317447e+11\n",
       " 13526    3.362632e+10                324      8.791927e+06   7.971167e+09\n",
       " 6437     3.361489e+10                289      9.966898e+06   8.846226e+09\n",
       " 13180    3.362578e+10                289      1.855375e+07   8.499621e+09\n",
       " 37052    3.365973e+10                256      4.035428e+06   7.705863e+09\n",
       " 76363    3.367588e+10                225      4.865947e+06   7.891111e+09\n",
       " 92923    3.376054e+10                225      9.279434e+06   8.514774e+09\n",
       " 65118    3.366716e+10                169      8.744914e+06   5.618394e+09\n",
       " 666      3.360313e+10                144      6.287761e+06   4.976195e+09\n",
       " 1279     3.360452e+10                144      5.207990e+06   5.487855e+09)"
      ]
     },
     "execution_count": 6,
     "metadata": {},
     "output_type": "execute_result"
    }
   ],
   "source": [
    "top_10_frequency"
   ]
  },
  {
   "cell_type": "code",
   "execution_count": 9,
   "metadata": {},
   "outputs": [
    {
     "data": {
      "text/plain": [
       "('top_10_duration',\n",
       "         MSISDN/Number  session_frequency  session_duration  total_traffic\n",
       " 106853   4.188282e+10            1136356      7.255100e+07   5.317447e+11\n",
       " 13180    3.362578e+10                289      1.855375e+07   8.499621e+09\n",
       " 6437     3.361489e+10                289      9.966898e+06   8.846226e+09\n",
       " 92923    3.376054e+10                225      9.279434e+06   8.514774e+09\n",
       " 13526    3.362632e+10                324      8.791927e+06   7.971167e+09\n",
       " 65118    3.366716e+10                169      8.744914e+06   5.618394e+09\n",
       " 50281    3.366284e+10                 81      6.614270e+06   4.000098e+09\n",
       " 57160    3.366469e+10                 81      6.288730e+06   5.682007e+09\n",
       " 666      3.360313e+10                144      6.287761e+06   4.976195e+09\n",
       " 66029    3.366746e+10                 36      5.649882e+06   2.600522e+09)"
      ]
     },
     "execution_count": 9,
     "metadata": {},
     "output_type": "execute_result"
    }
   ],
   "source": [
    "top_10_duration"
   ]
  },
  {
   "cell_type": "code",
   "execution_count": 10,
   "metadata": {},
   "outputs": [
    {
     "data": {
      "text/plain": [
       "('top_10_traffic',\n",
       "         MSISDN/Number  session_frequency  session_duration  total_traffic\n",
       " 106853   4.188282e+10            1136356      7.255100e+07   5.317447e+11\n",
       " 6437     3.361489e+10                289      9.966898e+06   8.846226e+09\n",
       " 92923    3.376054e+10                225      9.279434e+06   8.514774e+09\n",
       " 13180    3.362578e+10                289      1.855375e+07   8.499621e+09\n",
       " 13526    3.362632e+10                324      8.791927e+06   7.971167e+09\n",
       " 76363    3.367588e+10                225      4.865947e+06   7.891111e+09\n",
       " 37052    3.365973e+10                256      4.035428e+06   7.705863e+09\n",
       " 63028    3.366646e+10                121      4.536757e+06   7.308501e+09\n",
       " 92577    3.376041e+10                144      5.321667e+06   7.132371e+09\n",
       " 57241    3.366471e+10                121      2.927785e+06   6.872018e+09)"
      ]
     },
     "execution_count": 10,
     "metadata": {},
     "output_type": "execute_result"
    }
   ],
   "source": [
    "top_10_traffic"
   ]
  },
  {
   "cell_type": "markdown",
   "metadata": {},
   "source": [
    "### Top 10 Customers by Session Frequency\n",
    "\n",
    "Key insights include:\n",
    "\n",
    "- **High Session Frequency**: The customer with MSISDN/Number `4.188282e+10` has an exceptionally high session frequency of 1,136,356 sessions, indicating very frequent usage.\n",
    "- **Session Duration**: Despite the high session frequency, the session duration varies significantly among the top customers. For example, the top customer has a total session duration of `7.255100e+07` seconds, while others have much lower durations.\n",
    "- **Total Traffic**: The total traffic (download and upload in bytes) also varies, with the top customer generating `5.317447e+11` bytes of traffic, which is significantly higher than others.\n",
    "\n",
    "This analysis helps identify the most engaged users in terms of session frequency, which can be useful for targeted marketing and improving user experience.\n",
    "\n",
    "### Top 10 Customers by Session Duration\n",
    "\n",
    "Key insights include:\n",
    "\n",
    "- **Longest Session Duration**: The customer with MSISDN/Number `4.188282e+10` has an exceptionally long session duration of `7.255100e+07` seconds, indicating very high engagement.\n",
    "- **Session Frequency**: Despite the long session duration, the session frequency varies among the top customers. For example, the top customer has a session frequency of 1,136,356 sessions, while others have much lower frequencies.\n",
    "- **Total Traffic**: The total traffic (download and upload in bytes) also varies, with the top customer generating `5.317447e+11` bytes of traffic, which is significantly higher than others.\n",
    "\n",
    "This analysis helps identify the most engaged users in terms of session duration, which can be useful for understanding user behavior and improving user experience.\n",
    "\n",
    "### Top 10 Customers by Total Traffic\n",
    "\n",
    "Key insights include:\n",
    "\n",
    "- **Highest Total Traffic**: The customer with MSISDN/Number `4.188282e+10` has an exceptionally high total traffic of `5.317447e+11` bytes, indicating very high data usage.\n",
    "- **Session Frequency**: The session frequency varies among the top customers. For example, the top customer has a session frequency of 1,136,356 sessions, while others have much lower frequencies.\n",
    "- **Session Duration**: The session duration also varies significantly among the top customers. For example, the top customer has a session duration of `7.255100e+07` seconds, while others have much lower durations.\n",
    "\n",
    "This analysis helps identify the most data-intensive users, which can be useful for network optimization and targeted marketing strategies."
   ]
  }
 ],
 "metadata": {
  "kernelspec": {
   "display_name": "week2",
   "language": "python",
   "name": "python3"
  },
  "language_info": {
   "codemirror_mode": {
    "name": "ipython",
    "version": 3
   },
   "file_extension": ".py",
   "mimetype": "text/x-python",
   "name": "python",
   "nbconvert_exporter": "python",
   "pygments_lexer": "ipython3",
   "version": "3.10.9"
  }
 },
 "nbformat": 4,
 "nbformat_minor": 2
}
