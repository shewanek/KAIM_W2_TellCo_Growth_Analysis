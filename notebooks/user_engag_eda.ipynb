{
 "cells": [
  {
   "cell_type": "markdown",
   "metadata": {},
   "source": [
    "# User Engagement Analysis\n",
    "- User Engagement Analysis focuses on tracking user activities on database sessions to appreciate user engagement for overall applications and per application. The engagement metrics to be used are:\n",
    "    - Sessions frequency\n",
    "    - Duration of the session\n",
    "    - Session total traffic (download and upload in bytes)\n"
   ]
  },
  {
   "cell_type": "code",
   "execution_count": 1,
   "metadata": {},
   "outputs": [],
   "source": [
    "# Import necessary libraries and modules\n",
    "import os\n",
    "import sys\n",
    "import warnings\n",
    "import pandas as pd\n",
    "\n",
    "# Add parent directory to path to import local modules\n",
    "sys.path.insert(0, os.path.dirname(os.getcwd()))\n",
    "from scripts.user_engag_analysis import UserEngagementAnalysis\n",
    "\n",
    "\n",
    "# Suppress FutureWarnings\n",
    "warnings.simplefilter(action='ignore', category=FutureWarning)"
   ]
  },
  {
   "cell_type": "markdown",
   "metadata": {},
   "source": [
    "## Load and Display Cleaned Data"
   ]
  },
  {
   "cell_type": "code",
   "execution_count": 2,
   "metadata": {},
   "outputs": [
    {
     "data": {
      "text/html": [
       "<div>\n",
       "<style scoped>\n",
       "    .dataframe tbody tr th:only-of-type {\n",
       "        vertical-align: middle;\n",
       "    }\n",
       "\n",
       "    .dataframe tbody tr th {\n",
       "        vertical-align: top;\n",
       "    }\n",
       "\n",
       "    .dataframe thead th {\n",
       "        text-align: right;\n",
       "    }\n",
       "</style>\n",
       "<table border=\"1\" class=\"dataframe\">\n",
       "  <thead>\n",
       "    <tr style=\"text-align: right;\">\n",
       "      <th></th>\n",
       "      <th>Bearer Id</th>\n",
       "      <th>Start</th>\n",
       "      <th>End</th>\n",
       "      <th>Dur. (s)</th>\n",
       "      <th>MSISDN/Number</th>\n",
       "      <th>IMSI</th>\n",
       "      <th>IMEI</th>\n",
       "      <th>Avg Bearer TP DL (kbps)</th>\n",
       "      <th>Avg Bearer TP UL (kbps)</th>\n",
       "      <th>Avg RTT DL (ms)</th>\n",
       "      <th>...</th>\n",
       "      <th>Other DL (Bytes)</th>\n",
       "      <th>Other UL (Bytes)</th>\n",
       "      <th>Total DL (Bytes)</th>\n",
       "      <th>Total UL (Bytes)</th>\n",
       "      <th>Handset Manufacturer</th>\n",
       "      <th>Handset Type</th>\n",
       "      <th>DL TP &lt; 50 Kbps (%)</th>\n",
       "      <th>50 Kbps &lt; DL TP &lt; 250 Kbps (%)</th>\n",
       "      <th>UL TP &lt; 10 Kbps (%)</th>\n",
       "      <th>10 Kbps &lt; UL TP &lt; 50 Kbps (%)</th>\n",
       "    </tr>\n",
       "  </thead>\n",
       "  <tbody>\n",
       "    <tr>\n",
       "      <th>0</th>\n",
       "      <td>1.311448e+19</td>\n",
       "      <td>4/4/2019 12:01</td>\n",
       "      <td>4/25/2019 14:35</td>\n",
       "      <td>1823652.0</td>\n",
       "      <td>3.366496e+10</td>\n",
       "      <td>2.082014e+14</td>\n",
       "      <td>3.552121e+13</td>\n",
       "      <td>23.0</td>\n",
       "      <td>44.0</td>\n",
       "      <td>42.000000</td>\n",
       "      <td>...</td>\n",
       "      <td>171744450.0</td>\n",
       "      <td>8814393.0</td>\n",
       "      <td>308879636.0</td>\n",
       "      <td>36749741.0</td>\n",
       "      <td>Samsung</td>\n",
       "      <td>Samsung Galaxy A5 Sm-A520F</td>\n",
       "      <td>100.0</td>\n",
       "      <td>0.0</td>\n",
       "      <td>100.0</td>\n",
       "      <td>0.0</td>\n",
       "    </tr>\n",
       "    <tr>\n",
       "      <th>1</th>\n",
       "      <td>1.311448e+19</td>\n",
       "      <td>4/9/2019 13:04</td>\n",
       "      <td>4/25/2019 8:15</td>\n",
       "      <td>1365104.0</td>\n",
       "      <td>3.368185e+10</td>\n",
       "      <td>2.082019e+14</td>\n",
       "      <td>3.579401e+13</td>\n",
       "      <td>16.0</td>\n",
       "      <td>26.0</td>\n",
       "      <td>65.000000</td>\n",
       "      <td>...</td>\n",
       "      <td>526904238.0</td>\n",
       "      <td>15055145.0</td>\n",
       "      <td>653384965.0</td>\n",
       "      <td>53800391.0</td>\n",
       "      <td>Samsung</td>\n",
       "      <td>Samsung Galaxy J5 (Sm-J530)</td>\n",
       "      <td>100.0</td>\n",
       "      <td>0.0</td>\n",
       "      <td>100.0</td>\n",
       "      <td>0.0</td>\n",
       "    </tr>\n",
       "    <tr>\n",
       "      <th>2</th>\n",
       "      <td>1.311448e+19</td>\n",
       "      <td>4/9/2019 17:42</td>\n",
       "      <td>4/25/2019 11:58</td>\n",
       "      <td>1361762.0</td>\n",
       "      <td>3.376063e+10</td>\n",
       "      <td>2.082003e+14</td>\n",
       "      <td>3.528151e+13</td>\n",
       "      <td>6.0</td>\n",
       "      <td>9.0</td>\n",
       "      <td>109.795706</td>\n",
       "      <td>...</td>\n",
       "      <td>410692588.0</td>\n",
       "      <td>4215763.0</td>\n",
       "      <td>279807335.0</td>\n",
       "      <td>27883638.0</td>\n",
       "      <td>Samsung</td>\n",
       "      <td>Samsung Galaxy A8 (2018)</td>\n",
       "      <td>100.0</td>\n",
       "      <td>0.0</td>\n",
       "      <td>100.0</td>\n",
       "      <td>0.0</td>\n",
       "    </tr>\n",
       "    <tr>\n",
       "      <th>3</th>\n",
       "      <td>1.311448e+19</td>\n",
       "      <td>4/10/2019 0:31</td>\n",
       "      <td>4/25/2019 7:36</td>\n",
       "      <td>1321509.0</td>\n",
       "      <td>3.375034e+10</td>\n",
       "      <td>2.082014e+14</td>\n",
       "      <td>3.535661e+13</td>\n",
       "      <td>44.0</td>\n",
       "      <td>44.0</td>\n",
       "      <td>109.795706</td>\n",
       "      <td>...</td>\n",
       "      <td>749039933.0</td>\n",
       "      <td>12797283.0</td>\n",
       "      <td>846028530.0</td>\n",
       "      <td>43324218.0</td>\n",
       "      <td>undefined</td>\n",
       "      <td>undefined</td>\n",
       "      <td>100.0</td>\n",
       "      <td>0.0</td>\n",
       "      <td>100.0</td>\n",
       "      <td>0.0</td>\n",
       "    </tr>\n",
       "    <tr>\n",
       "      <th>4</th>\n",
       "      <td>1.311448e+19</td>\n",
       "      <td>4/12/2019 20:10</td>\n",
       "      <td>4/25/2019 10:40</td>\n",
       "      <td>1089009.0</td>\n",
       "      <td>3.369980e+10</td>\n",
       "      <td>2.082014e+14</td>\n",
       "      <td>3.540701e+13</td>\n",
       "      <td>6.0</td>\n",
       "      <td>9.0</td>\n",
       "      <td>109.795706</td>\n",
       "      <td>...</td>\n",
       "      <td>550709500.0</td>\n",
       "      <td>13910322.0</td>\n",
       "      <td>569138589.0</td>\n",
       "      <td>38542814.0</td>\n",
       "      <td>Samsung</td>\n",
       "      <td>Samsung Sm-G390F</td>\n",
       "      <td>100.0</td>\n",
       "      <td>0.0</td>\n",
       "      <td>100.0</td>\n",
       "      <td>0.0</td>\n",
       "    </tr>\n",
       "  </tbody>\n",
       "</table>\n",
       "<p>5 rows × 35 columns</p>\n",
       "</div>"
      ],
      "text/plain": [
       "      Bearer Id            Start              End   Dur. (s)  MSISDN/Number  \\\n",
       "0  1.311448e+19   4/4/2019 12:01  4/25/2019 14:35  1823652.0   3.366496e+10   \n",
       "1  1.311448e+19   4/9/2019 13:04   4/25/2019 8:15  1365104.0   3.368185e+10   \n",
       "2  1.311448e+19   4/9/2019 17:42  4/25/2019 11:58  1361762.0   3.376063e+10   \n",
       "3  1.311448e+19   4/10/2019 0:31   4/25/2019 7:36  1321509.0   3.375034e+10   \n",
       "4  1.311448e+19  4/12/2019 20:10  4/25/2019 10:40  1089009.0   3.369980e+10   \n",
       "\n",
       "           IMSI          IMEI  Avg Bearer TP DL (kbps)  \\\n",
       "0  2.082014e+14  3.552121e+13                     23.0   \n",
       "1  2.082019e+14  3.579401e+13                     16.0   \n",
       "2  2.082003e+14  3.528151e+13                      6.0   \n",
       "3  2.082014e+14  3.535661e+13                     44.0   \n",
       "4  2.082014e+14  3.540701e+13                      6.0   \n",
       "\n",
       "   Avg Bearer TP UL (kbps)  Avg RTT DL (ms)  ...  Other DL (Bytes)  \\\n",
       "0                     44.0        42.000000  ...       171744450.0   \n",
       "1                     26.0        65.000000  ...       526904238.0   \n",
       "2                      9.0       109.795706  ...       410692588.0   \n",
       "3                     44.0       109.795706  ...       749039933.0   \n",
       "4                      9.0       109.795706  ...       550709500.0   \n",
       "\n",
       "   Other UL (Bytes)  Total DL (Bytes)  Total UL (Bytes)  Handset Manufacturer  \\\n",
       "0         8814393.0       308879636.0        36749741.0               Samsung   \n",
       "1        15055145.0       653384965.0        53800391.0               Samsung   \n",
       "2         4215763.0       279807335.0        27883638.0               Samsung   \n",
       "3        12797283.0       846028530.0        43324218.0             undefined   \n",
       "4        13910322.0       569138589.0        38542814.0               Samsung   \n",
       "\n",
       "                  Handset Type  DL TP < 50 Kbps (%)  \\\n",
       "0   Samsung Galaxy A5 Sm-A520F                100.0   \n",
       "1  Samsung Galaxy J5 (Sm-J530)                100.0   \n",
       "2     Samsung Galaxy A8 (2018)                100.0   \n",
       "3                    undefined                100.0   \n",
       "4             Samsung Sm-G390F                100.0   \n",
       "\n",
       "   50 Kbps < DL TP < 250 Kbps (%)  UL TP < 10 Kbps (%)  \\\n",
       "0                             0.0                100.0   \n",
       "1                             0.0                100.0   \n",
       "2                             0.0                100.0   \n",
       "3                             0.0                100.0   \n",
       "4                             0.0                100.0   \n",
       "\n",
       "   10 Kbps < UL TP < 50 Kbps (%)  \n",
       "0                            0.0  \n",
       "1                            0.0  \n",
       "2                            0.0  \n",
       "3                            0.0  \n",
       "4                            0.0  \n",
       "\n",
       "[5 rows x 35 columns]"
      ]
     },
     "execution_count": 2,
     "metadata": {},
     "output_type": "execute_result"
    }
   ],
   "source": [
    "# Load the data\n",
    "df = pd.read_csv('../data/clean_proccessed_data.csv')\n",
    "\n",
    "# Display the first few rows of the DataFrame\n",
    "df.head()"
   ]
  },
  {
   "cell_type": "markdown",
   "metadata": {},
   "source": [
    "### User Engagement Analysis Initialization"
   ]
  },
  {
   "cell_type": "code",
   "execution_count": 3,
   "metadata": {},
   "outputs": [],
   "source": [
    "User_Engag = UserEngagementAnalysis(df)"
   ]
  },
  {
   "cell_type": "code",
   "execution_count": 4,
   "metadata": {},
   "outputs": [
    {
     "name": "stdout",
     "output_type": "stream",
     "text": [
      "   MSISDN/Number  session_frequency  session_duration  total_traffic\n",
      "0   3.360100e+10                  1          116720.0   8.786906e+08\n",
      "1   3.360100e+10                  1          181230.0   1.568596e+08\n",
      "2   3.360100e+10                  1          134969.0   5.959665e+08\n",
      "3   3.360101e+10                  1           49878.0   4.223207e+08\n",
      "4   3.360101e+10                  4           37104.0   1.457411e+09\n"
     ]
    }
   ],
   "source": [
    "aggregated_data= User_Engag.aggregate_metrics_per_customer()\n",
    "print(aggregated_data.head())"
   ]
  },
  {
   "cell_type": "markdown",
   "metadata": {},
   "source": [
    "### Aggregated Metrics per Customer"
   ]
  },
  {
   "cell_type": "code",
   "execution_count": 5,
   "metadata": {},
   "outputs": [],
   "source": [
    "top_10_frequency, top_10_duration, top_10_traffic = User_Engag.top_10_customers_per_metric(aggregated_data)"
   ]
  },
  {
   "cell_type": "code",
   "execution_count": 6,
   "metadata": {},
   "outputs": [
    {
     "data": {
      "text/plain": [
       "('top_10_frequency',\n",
       "         MSISDN/Number  session_frequency  session_duration  total_traffic\n",
       " 106853   4.188282e+10            1136356      7.255100e+07   5.317447e+11\n",
       " 13526    3.362632e+10                324      8.791927e+06   7.971167e+09\n",
       " 6437     3.361489e+10                289      9.966898e+06   8.846226e+09\n",
       " 13180    3.362578e+10                289      1.855375e+07   8.499621e+09\n",
       " 37052    3.365973e+10                256      4.035428e+06   7.705863e+09\n",
       " 76363    3.367588e+10                225      4.865947e+06   7.891111e+09\n",
       " 92923    3.376054e+10                225      9.279434e+06   8.514774e+09\n",
       " 65118    3.366716e+10                169      8.744914e+06   5.618394e+09\n",
       " 666      3.360313e+10                144      6.287761e+06   4.976195e+09\n",
       " 1279     3.360452e+10                144      5.207990e+06   5.487855e+09)"
      ]
     },
     "execution_count": 6,
     "metadata": {},
     "output_type": "execute_result"
    }
   ],
   "source": [
    "top_10_frequency"
   ]
  },
  {
   "cell_type": "code",
   "execution_count": 7,
   "metadata": {},
   "outputs": [
    {
     "data": {
      "text/plain": [
       "('top_10_duration',\n",
       "         MSISDN/Number  session_frequency  session_duration  total_traffic\n",
       " 106853   4.188282e+10            1136356      7.255100e+07   5.317447e+11\n",
       " 13180    3.362578e+10                289      1.855375e+07   8.499621e+09\n",
       " 6437     3.361489e+10                289      9.966898e+06   8.846226e+09\n",
       " 92923    3.376054e+10                225      9.279434e+06   8.514774e+09\n",
       " 13526    3.362632e+10                324      8.791927e+06   7.971167e+09\n",
       " 65118    3.366716e+10                169      8.744914e+06   5.618394e+09\n",
       " 50281    3.366284e+10                 81      6.614270e+06   4.000098e+09\n",
       " 57160    3.366469e+10                 81      6.288730e+06   5.682007e+09\n",
       " 666      3.360313e+10                144      6.287761e+06   4.976195e+09\n",
       " 66029    3.366746e+10                 36      5.649882e+06   2.600522e+09)"
      ]
     },
     "execution_count": 7,
     "metadata": {},
     "output_type": "execute_result"
    }
   ],
   "source": [
    "top_10_duration"
   ]
  },
  {
   "cell_type": "code",
   "execution_count": 8,
   "metadata": {},
   "outputs": [
    {
     "data": {
      "text/plain": [
       "('top_10_traffic',\n",
       "         MSISDN/Number  session_frequency  session_duration  total_traffic\n",
       " 106853   4.188282e+10            1136356      7.255100e+07   5.317447e+11\n",
       " 6437     3.361489e+10                289      9.966898e+06   8.846226e+09\n",
       " 92923    3.376054e+10                225      9.279434e+06   8.514774e+09\n",
       " 13180    3.362578e+10                289      1.855375e+07   8.499621e+09\n",
       " 13526    3.362632e+10                324      8.791927e+06   7.971167e+09\n",
       " 76363    3.367588e+10                225      4.865947e+06   7.891111e+09\n",
       " 37052    3.365973e+10                256      4.035428e+06   7.705863e+09\n",
       " 63028    3.366646e+10                121      4.536757e+06   7.308501e+09\n",
       " 92577    3.376041e+10                144      5.321667e+06   7.132371e+09\n",
       " 57241    3.366471e+10                121      2.927785e+06   6.872018e+09)"
      ]
     },
     "execution_count": 8,
     "metadata": {},
     "output_type": "execute_result"
    }
   ],
   "source": [
    "top_10_traffic"
   ]
  },
  {
   "cell_type": "markdown",
   "metadata": {},
   "source": [
    "### Top 10 Customers by Session Frequency\n",
    "\n",
    "Key insights include:\n",
    "\n",
    "- **High Session Frequency**: The customer with MSISDN/Number `4.188282e+10` has an exceptionally high session frequency of 1,136,356 sessions, indicating very frequent usage.\n",
    "- **Session Duration**: Despite the high session frequency, the session duration varies significantly among the top customers. For example, the top customer has a total session duration of `7.255100e+07` seconds, while others have much lower durations.\n",
    "- **Total Traffic**: The total traffic (download and upload in bytes) also varies, with the top customer generating `5.317447e+11` bytes of traffic, which is significantly higher than others.\n",
    "\n",
    "This analysis helps identify the most engaged users in terms of session frequency, which can be useful for targeted marketing and improving user experience.\n",
    "\n",
    "### Top 10 Customers by Session Duration\n",
    "\n",
    "Key insights include:\n",
    "\n",
    "- **Longest Session Duration**: The customer with MSISDN/Number `4.188282e+10` has an exceptionally long session duration of `7.255100e+07` seconds, indicating very high engagement.\n",
    "- **Session Frequency**: Despite the long session duration, the session frequency varies among the top customers. For example, the top customer has a session frequency of 1,136,356 sessions, while others have much lower frequencies.\n",
    "- **Total Traffic**: The total traffic (download and upload in bytes) also varies, with the top customer generating `5.317447e+11` bytes of traffic, which is significantly higher than others.\n",
    "\n",
    "This analysis helps identify the most engaged users in terms of session duration, which can be useful for understanding user behavior and improving user experience.\n",
    "\n",
    "### Top 10 Customers by Total Traffic\n",
    "\n",
    "Key insights include:\n",
    "\n",
    "- **Highest Total Traffic**: The customer with MSISDN/Number `4.188282e+10` has an exceptionally high total traffic of `5.317447e+11` bytes, indicating very high data usage.\n",
    "- **Session Frequency**: The session frequency varies among the top customers. For example, the top customer has a session frequency of 1,136,356 sessions, while others have much lower frequencies.\n",
    "- **Session Duration**: The session duration also varies significantly among the top customers. For example, the top customer has a session duration of `7.255100e+07` seconds, while others have much lower durations.\n",
    "\n",
    "This analysis helps identify the most data-intensive users, which can be useful for network optimization and targeted marketing strategies."
   ]
  },
  {
   "cell_type": "markdown",
   "metadata": {},
   "source": [
    "\n",
    "### Normalize user engagement metrics by scaling values between 0-1"
   ]
  },
  {
   "cell_type": "code",
   "execution_count": 9,
   "metadata": {},
   "outputs": [],
   "source": [
    "normalized_data = User_Engag.normalize_metrics(aggregated_data)"
   ]
  },
  {
   "cell_type": "code",
   "execution_count": 10,
   "metadata": {},
   "outputs": [
    {
     "data": {
      "text/plain": [
       "array([[-0.0035172 , -0.10407105,  0.10768568],\n",
       "       [-0.0035172 ,  0.11878972, -0.31763388],\n",
       "       [-0.0035172 , -0.04102677, -0.05890193],\n",
       "       ...,\n",
       "       [-0.0035172 ,  2.52377555, -0.27328639],\n",
       "       [-0.0035172 ,  0.36683503, -0.05871258],\n",
       "       [-0.0035172 ,  2.49772389, -0.32806667]], shape=(106857, 3))"
      ]
     },
     "execution_count": 10,
     "metadata": {},
     "output_type": "execute_result"
    }
   ],
   "source": [
    "normalized_data"
   ]
  },
  {
   "cell_type": "markdown",
   "metadata": {},
   "source": [
    "\n",
    "### This appears to be a numpy array containing 106,857 rows of 3D coordinate data\n",
    " Notable characteristics:\n",
    " - First column is constant (-0.0035172) suggesting a fixed offset or baseline\n",
    " - Second/third columns show significant variation (e.g. 2.52, -0.32) \n",
    " - Data likely represents 3D point cloud, motion capture, or spatial coordinates\n",
    " - Shape (106857, 3) indicates large number of 3D points or time series samples"
   ]
  },
  {
   "cell_type": "code",
   "execution_count": 11,
   "metadata": {},
   "outputs": [],
   "source": [
    "clusters = User_Engag.k_means_clustering(normalized_data)"
   ]
  },
  {
   "cell_type": "code",
   "execution_count": 12,
   "metadata": {},
   "outputs": [
    {
     "data": {
      "text/plain": [
       "array([2, 2, 2, ..., 0, 2, 0], shape=(106857,), dtype=int32)"
      ]
     },
     "execution_count": 12,
     "metadata": {},
     "output_type": "execute_result"
    }
   ],
   "source": [
    "clusters"
   ]
  },
  {
   "cell_type": "code",
   "execution_count": 13,
   "metadata": {},
   "outputs": [],
   "source": [
    "cluster_metrics = User_Engag.compute_cluster_metrics(aggregated_data, clusters)"
   ]
  },
  {
   "cell_type": "code",
   "execution_count": 14,
   "metadata": {},
   "outputs": [
    {
     "data": {
      "text/html": [
       "<div>\n",
       "<style scoped>\n",
       "    .dataframe tbody tr th:only-of-type {\n",
       "        vertical-align: middle;\n",
       "    }\n",
       "\n",
       "    .dataframe tbody tr th {\n",
       "        vertical-align: top;\n",
       "    }\n",
       "\n",
       "    .dataframe thead tr th {\n",
       "        text-align: left;\n",
       "    }\n",
       "\n",
       "    .dataframe thead tr:last-of-type th {\n",
       "        text-align: right;\n",
       "    }\n",
       "</style>\n",
       "<table border=\"1\" class=\"dataframe\">\n",
       "  <thead>\n",
       "    <tr>\n",
       "      <th></th>\n",
       "      <th colspan=\"4\" halign=\"left\">session_frequency</th>\n",
       "      <th colspan=\"4\" halign=\"left\">session_duration</th>\n",
       "      <th colspan=\"4\" halign=\"left\">total_traffic</th>\n",
       "    </tr>\n",
       "    <tr>\n",
       "      <th></th>\n",
       "      <th>min</th>\n",
       "      <th>max</th>\n",
       "      <th>mean</th>\n",
       "      <th>sum</th>\n",
       "      <th>min</th>\n",
       "      <th>max</th>\n",
       "      <th>mean</th>\n",
       "      <th>sum</th>\n",
       "      <th>min</th>\n",
       "      <th>max</th>\n",
       "      <th>mean</th>\n",
       "      <th>sum</th>\n",
       "    </tr>\n",
       "    <tr>\n",
       "      <th>cluster</th>\n",
       "      <th></th>\n",
       "      <th></th>\n",
       "      <th></th>\n",
       "      <th></th>\n",
       "      <th></th>\n",
       "      <th></th>\n",
       "      <th></th>\n",
       "      <th></th>\n",
       "      <th></th>\n",
       "      <th></th>\n",
       "      <th></th>\n",
       "      <th></th>\n",
       "    </tr>\n",
       "  </thead>\n",
       "  <tbody>\n",
       "    <tr>\n",
       "      <th>0</th>\n",
       "      <td>1</td>\n",
       "      <td>324</td>\n",
       "      <td>1.248840e+01</td>\n",
       "      <td>97959</td>\n",
       "      <td>1.706800e+05</td>\n",
       "      <td>1.855375e+07</td>\n",
       "      <td>5.373273e+05</td>\n",
       "      <td>4.214795e+09</td>\n",
       "      <td>5.212838e+07</td>\n",
       "      <td>8.846226e+09</td>\n",
       "      <td>1.646749e+09</td>\n",
       "      <td>1.291710e+13</td>\n",
       "    </tr>\n",
       "    <tr>\n",
       "      <th>1</th>\n",
       "      <td>1136356</td>\n",
       "      <td>1136356</td>\n",
       "      <td>1.136356e+06</td>\n",
       "      <td>1136356</td>\n",
       "      <td>7.255100e+07</td>\n",
       "      <td>7.255100e+07</td>\n",
       "      <td>7.255100e+07</td>\n",
       "      <td>7.255100e+07</td>\n",
       "      <td>5.317447e+11</td>\n",
       "      <td>5.317447e+11</td>\n",
       "      <td>5.317447e+11</td>\n",
       "      <td>5.317447e+11</td>\n",
       "    </tr>\n",
       "    <tr>\n",
       "      <th>2</th>\n",
       "      <td>1</td>\n",
       "      <td>36</td>\n",
       "      <td>1.808326e+00</td>\n",
       "      <td>179046</td>\n",
       "      <td>7.142000e+03</td>\n",
       "      <td>3.997920e+05</td>\n",
       "      <td>1.151784e+05</td>\n",
       "      <td>1.140404e+10</td>\n",
       "      <td>3.324901e+07</td>\n",
       "      <td>3.271920e+09</td>\n",
       "      <td>6.152421e+08</td>\n",
       "      <td>6.091635e+13</td>\n",
       "    </tr>\n",
       "  </tbody>\n",
       "</table>\n",
       "</div>"
      ],
      "text/plain": [
       "        session_frequency                                 session_duration  \\\n",
       "                      min      max          mean      sum              min   \n",
       "cluster                                                                      \n",
       "0                       1      324  1.248840e+01    97959     1.706800e+05   \n",
       "1                 1136356  1136356  1.136356e+06  1136356     7.255100e+07   \n",
       "2                       1       36  1.808326e+00   179046     7.142000e+03   \n",
       "\n",
       "                                                  total_traffic                \\\n",
       "                  max          mean           sum           min           max   \n",
       "cluster                                                                         \n",
       "0        1.855375e+07  5.373273e+05  4.214795e+09  5.212838e+07  8.846226e+09   \n",
       "1        7.255100e+07  7.255100e+07  7.255100e+07  5.317447e+11  5.317447e+11   \n",
       "2        3.997920e+05  1.151784e+05  1.140404e+10  3.324901e+07  3.271920e+09   \n",
       "\n",
       "                                     \n",
       "                 mean           sum  \n",
       "cluster                              \n",
       "0        1.646749e+09  1.291710e+13  \n",
       "1        5.317447e+11  5.317447e+11  \n",
       "2        6.152421e+08  6.091635e+13  "
      ]
     },
     "execution_count": 14,
     "metadata": {},
     "output_type": "execute_result"
    }
   ],
   "source": [
    "cluster_metrics"
   ]
  },
  {
   "cell_type": "code",
   "execution_count": 15,
   "metadata": {},
   "outputs": [
    {
     "data": {
      "image/png": "[encoded data removed]",
      "text/plain": [
       "<Figure size 1000x600 with 1 Axes>"
      ]
     },
     "metadata": {},
     "output_type": "display_data"
    }
   ],
   "source": [
    "User_Engag.plot_elbow_method(normalized_data)"
   ]
  },
  {
   "cell_type": "code",
   "execution_count": 16,
   "metadata": {},
   "outputs": [],
   "source": [
    "app_traffic = User_Engag.aggregate_traffic_per_application()"
   ]
  },
  {
   "cell_type": "code",
   "execution_count": 17,
   "metadata": {},
   "outputs": [
    {
     "data": {
      "text/html": [
       "<div>\n",
       "<style scoped>\n",
       "    .dataframe tbody tr th:only-of-type {\n",
       "        vertical-align: middle;\n",
       "    }\n",
       "\n",
       "    .dataframe tbody tr th {\n",
       "        vertical-align: top;\n",
       "    }\n",
       "\n",
       "    .dataframe thead th {\n",
       "        text-align: right;\n",
       "    }\n",
       "</style>\n",
       "<table border=\"1\" class=\"dataframe\">\n",
       "  <thead>\n",
       "    <tr style=\"text-align: right;\">\n",
       "      <th></th>\n",
       "      <th>application</th>\n",
       "      <th>MSISDN/Number</th>\n",
       "      <th>traffic</th>\n",
       "    </tr>\n",
       "  </thead>\n",
       "  <tbody>\n",
       "    <tr>\n",
       "      <th>0</th>\n",
       "      <td>Email DL (Bytes)</td>\n",
       "      <td>3.360100e+10</td>\n",
       "      <td>8.374000e+05</td>\n",
       "    </tr>\n",
       "    <tr>\n",
       "      <th>1</th>\n",
       "      <td>Email DL (Bytes)</td>\n",
       "      <td>3.360100e+10</td>\n",
       "      <td>2.828821e+06</td>\n",
       "    </tr>\n",
       "    <tr>\n",
       "      <th>2</th>\n",
       "      <td>Email DL (Bytes)</td>\n",
       "      <td>3.360100e+10</td>\n",
       "      <td>2.436500e+06</td>\n",
       "    </tr>\n",
       "    <tr>\n",
       "      <th>3</th>\n",
       "      <td>Email DL (Bytes)</td>\n",
       "      <td>3.360101e+10</td>\n",
       "      <td>2.178618e+06</td>\n",
       "    </tr>\n",
       "    <tr>\n",
       "      <th>4</th>\n",
       "      <td>Email DL (Bytes)</td>\n",
       "      <td>3.360101e+10</td>\n",
       "      <td>2.247808e+06</td>\n",
       "    </tr>\n",
       "    <tr>\n",
       "      <th>...</th>\n",
       "      <td>...</td>\n",
       "      <td>...</td>\n",
       "      <td>...</td>\n",
       "    </tr>\n",
       "    <tr>\n",
       "      <th>1495993</th>\n",
       "      <td>Youtube UL (Bytes)</td>\n",
       "      <td>3.379000e+10</td>\n",
       "      <td>1.425471e+07</td>\n",
       "    </tr>\n",
       "    <tr>\n",
       "      <th>1495994</th>\n",
       "      <td>Youtube UL (Bytes)</td>\n",
       "      <td>4.188282e+10</td>\n",
       "      <td>1.184609e+10</td>\n",
       "    </tr>\n",
       "    <tr>\n",
       "      <th>1495995</th>\n",
       "      <td>Youtube UL (Bytes)</td>\n",
       "      <td>3.197021e+12</td>\n",
       "      <td>2.120016e+06</td>\n",
       "    </tr>\n",
       "    <tr>\n",
       "      <th>1495996</th>\n",
       "      <td>Youtube UL (Bytes)</td>\n",
       "      <td>3.370000e+14</td>\n",
       "      <td>2.004421e+07</td>\n",
       "    </tr>\n",
       "    <tr>\n",
       "      <th>1495997</th>\n",
       "      <td>Youtube UL (Bytes)</td>\n",
       "      <td>8.823971e+14</td>\n",
       "      <td>2.196039e+07</td>\n",
       "    </tr>\n",
       "  </tbody>\n",
       "</table>\n",
       "<p>1495998 rows × 3 columns</p>\n",
       "</div>"
      ],
      "text/plain": [
       "                application  MSISDN/Number       traffic\n",
       "0          Email DL (Bytes)   3.360100e+10  8.374000e+05\n",
       "1          Email DL (Bytes)   3.360100e+10  2.828821e+06\n",
       "2          Email DL (Bytes)   3.360100e+10  2.436500e+06\n",
       "3          Email DL (Bytes)   3.360101e+10  2.178618e+06\n",
       "4          Email DL (Bytes)   3.360101e+10  2.247808e+06\n",
       "...                     ...            ...           ...\n",
       "1495993  Youtube UL (Bytes)   3.379000e+10  1.425471e+07\n",
       "1495994  Youtube UL (Bytes)   4.188282e+10  1.184609e+10\n",
       "1495995  Youtube UL (Bytes)   3.197021e+12  2.120016e+06\n",
       "1495996  Youtube UL (Bytes)   3.370000e+14  2.004421e+07\n",
       "1495997  Youtube UL (Bytes)   8.823971e+14  2.196039e+07\n",
       "\n",
       "[1495998 rows x 3 columns]"
      ]
     },
     "execution_count": 17,
     "metadata": {},
     "output_type": "execute_result"
    }
   ],
   "source": [
    "app_traffic"
   ]
  },
  {
   "cell_type": "code",
   "execution_count": 18,
   "metadata": {},
   "outputs": [],
   "source": [
    "top_10_users = User_Engag.top_10_users_per_application(app_traffic)"
   ]
  },
  {
   "cell_type": "code",
   "execution_count": 19,
   "metadata": {},
   "outputs": [
    {
     "data": {
      "text/html": [
       "<div>\n",
       "<style scoped>\n",
       "    .dataframe tbody tr th:only-of-type {\n",
       "        vertical-align: middle;\n",
       "    }\n",
       "\n",
       "    .dataframe tbody tr th {\n",
       "        vertical-align: top;\n",
       "    }\n",
       "\n",
       "    .dataframe thead th {\n",
       "        text-align: right;\n",
       "    }\n",
       "</style>\n",
       "<table border=\"1\" class=\"dataframe\">\n",
       "  <thead>\n",
       "    <tr style=\"text-align: right;\">\n",
       "      <th></th>\n",
       "      <th>application</th>\n",
       "      <th>MSISDN/Number</th>\n",
       "      <th>traffic</th>\n",
       "    </tr>\n",
       "  </thead>\n",
       "  <tbody>\n",
       "    <tr>\n",
       "      <th>0</th>\n",
       "      <td>Email DL (Bytes)</td>\n",
       "      <td>4.188282e+10</td>\n",
       "      <td>1.904048e+09</td>\n",
       "    </tr>\n",
       "    <tr>\n",
       "      <th>1</th>\n",
       "      <td>Email DL (Bytes)</td>\n",
       "      <td>3.361489e+10</td>\n",
       "      <td>3.360721e+07</td>\n",
       "    </tr>\n",
       "    <tr>\n",
       "      <th>2</th>\n",
       "      <td>Email DL (Bytes)</td>\n",
       "      <td>3.362632e+10</td>\n",
       "      <td>3.340478e+07</td>\n",
       "    </tr>\n",
       "    <tr>\n",
       "      <th>3</th>\n",
       "      <td>Email DL (Bytes)</td>\n",
       "      <td>3.362578e+10</td>\n",
       "      <td>3.189541e+07</td>\n",
       "    </tr>\n",
       "    <tr>\n",
       "      <th>4</th>\n",
       "      <td>Email DL (Bytes)</td>\n",
       "      <td>3.378632e+10</td>\n",
       "      <td>3.087691e+07</td>\n",
       "    </tr>\n",
       "    <tr>\n",
       "      <th>5</th>\n",
       "      <td>Email DL (Bytes)</td>\n",
       "      <td>3.365973e+10</td>\n",
       "      <td>2.990765e+07</td>\n",
       "    </tr>\n",
       "    <tr>\n",
       "      <th>6</th>\n",
       "      <td>Email DL (Bytes)</td>\n",
       "      <td>3.376054e+10</td>\n",
       "      <td>2.643790e+07</td>\n",
       "    </tr>\n",
       "    <tr>\n",
       "      <th>7</th>\n",
       "      <td>Email DL (Bytes)</td>\n",
       "      <td>3.366546e+10</td>\n",
       "      <td>2.594287e+07</td>\n",
       "    </tr>\n",
       "    <tr>\n",
       "      <th>8</th>\n",
       "      <td>Email DL (Bytes)</td>\n",
       "      <td>3.367588e+10</td>\n",
       "      <td>2.428472e+07</td>\n",
       "    </tr>\n",
       "    <tr>\n",
       "      <th>9</th>\n",
       "      <td>Email DL (Bytes)</td>\n",
       "      <td>3.369879e+10</td>\n",
       "      <td>2.416560e+07</td>\n",
       "    </tr>\n",
       "  </tbody>\n",
       "</table>\n",
       "</div>"
      ],
      "text/plain": [
       "        application  MSISDN/Number       traffic\n",
       "0  Email DL (Bytes)   4.188282e+10  1.904048e+09\n",
       "1  Email DL (Bytes)   3.361489e+10  3.360721e+07\n",
       "2  Email DL (Bytes)   3.362632e+10  3.340478e+07\n",
       "3  Email DL (Bytes)   3.362578e+10  3.189541e+07\n",
       "4  Email DL (Bytes)   3.378632e+10  3.087691e+07\n",
       "5  Email DL (Bytes)   3.365973e+10  2.990765e+07\n",
       "6  Email DL (Bytes)   3.376054e+10  2.643790e+07\n",
       "7  Email DL (Bytes)   3.366546e+10  2.594287e+07\n",
       "8  Email DL (Bytes)   3.367588e+10  2.428472e+07\n",
       "9  Email DL (Bytes)   3.369879e+10  2.416560e+07"
      ]
     },
     "execution_count": 19,
     "metadata": {},
     "output_type": "execute_result"
    }
   ],
   "source": [
    "top_10_users.head(10)"
   ]
  },
  {
   "cell_type": "markdown",
   "metadata": {},
   "source": [
    "\n",
    "### Analysis of Email Download (DL) Bytes traffic pattern:\n",
    "\n",
    " 1. Initial spike in traffic at index 0 (4.19e+10 bytes) followed by sharp drop\n",
    " 2. Traffic stabilizes around 3.36-3.38e+10 bytes from index 1-9\n",
    " 3. Declining trend in variation (bytes) from 1.90e+09 to 2.42e+07\n",
    " 4. Most stable period appears to be between indices 7-9\n",
    " 5. Overall pattern suggests initial heavy usage followed by normalization\n",
    " 6. Variations decrease over time indicating more consistent usage patterns"
   ]
  },
  {
   "cell_type": "code",
   "execution_count": 20,
   "metadata": {},
   "outputs": [
    {
     "name": "stdout",
     "output_type": "stream",
     "text": [
      "Top 3 most used applications with values: {'Gaming DL (Bytes)': 63307127434008.59, 'Other DL (Bytes)': 63165502729718.195, 'Youtube DL (Bytes)': 1745122509657.504}\n"
     ]
    },
    {
     "data": {
      "image/png": "[encoded data removed]",
      "text/plain": [
       "<Figure size 1200x800 with 1 Axes>"
      ]
     },
     "metadata": {},
     "output_type": "display_data"
    }
   ],
   "source": [
    "User_Engag.plot_top_3_applications(app_traffic)"
   ]
  },
  {
   "cell_type": "markdown",
   "metadata": {},
   "source": [
    "### Key Insights:\n",
    "\n",
    " 1. 🎮 Gaming Applications Dominance\n",
    " - Gaming leads data consumption with ~63.3 PB (Petabytes)\n",
    " - Indicates heavy gaming traffic on the network \n",
    " - May require optimization for gaming-specific traffic\n",
    "\n",
    " 2. 📱 Other Applications Close Second\n",
    " - \"Other\" category consumes ~63.2 PB\n",
    " - Nearly equal to gaming traffic\n",
    " - Suggests need for detailed traffic classification\n",
    "\n",
    " 3. 📺 YouTube Usage Significantly Lower\n",
    " - YouTube traffic at ~1.7 PB\n",
    " - Much lower than gaming/other categories\n",
    " - Represents only ~1.4% of top 3 applications' total traffic\n",
    "\n",
    " 4. 🔧 Network Planning Implications\n",
    " - Network capacity should prioritize gaming traffic\n",
    " - Consider gaming-specific QoS policies\n",
    " - Investigate \"Other\" category for better classification"
   ]
  }
 ],
 "metadata": {
  "kernelspec": {
   "display_name": "week2",
   "language": "python",
   "name": "python3"
  },
  "language_info": {
   "codemirror_mode": {
    "name": "ipython",
    "version": 3
   },
   "file_extension": ".py",
   "mimetype": "text/x-python",
   "name": "python",
   "nbconvert_exporter": "python",
   "pygments_lexer": "ipython3",
   "version": "3.10.9"
  }
 },
 "nbformat": 4,
 "nbformat_minor": 2
}
